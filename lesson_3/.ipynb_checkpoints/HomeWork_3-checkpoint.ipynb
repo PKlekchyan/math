{
 "cells": [
  {
   "cell_type": "code",
   "execution_count": 1,
   "id": "automotive-contrary",
   "metadata": {},
   "outputs": [],
   "source": [
    "import numpy as np"
   ]
  },
  {
   "cell_type": "markdown",
   "id": "environmental-liberal",
   "metadata": {},
   "source": [
    "### Уровень 0."
   ]
  },
  {
   "cell_type": "markdown",
   "id": "opposed-contract",
   "metadata": {},
   "source": [
    "#### 1.\n",
    "Диагональная матрица может быть ортогональной лишь в том случае, когда все диагональные элементы равны ± 1"
   ]
  },
  {
   "cell_type": "code",
   "execution_count": 2,
   "id": "fundamental-istanbul",
   "metadata": {},
   "outputs": [
    {
     "name": "stdout",
     "output_type": "stream",
     "text": [
      "Матрица диагональная, ортогональная\n"
     ]
    }
   ],
   "source": [
    "a = np.array([[-1, 0 , 0], [0, -1, 0], [0, 0, -1]])\n",
    "e = np.zeros_like(a)\n",
    "for i in range(len(e)):\n",
    "    e[i][i] = 1\n",
    "a_t = a.transpose()\n",
    "m = a.dot(a_t)\n",
    "\n",
    "result = np.sum(m == e) / m.size\n",
    "if result == 1.0:\n",
    "    print(\"Матрица диагональная, ортогональная\")\n",
    "else:\n",
    "    print(\"Матрица не ортогональная\")"
   ]
  },
  {
   "cell_type": "markdown",
   "id": "minus-emergency",
   "metadata": {},
   "source": [
    "#### 2."
   ]
  },
  {
   "cell_type": "code",
   "execution_count": 3,
   "id": "corrected-turning",
   "metadata": {},
   "outputs": [
    {
     "name": "stdout",
     "output_type": "stream",
     "text": [
      "Матрица верхнетреугольная, ортогональная\n"
     ]
    }
   ],
   "source": [
    "# a = np.triu([[1, 1, 1], [1, 1, 1], [1, 1, 1]], 0)\n",
    "a = np.triu([[1, 0, 0], [0, 1, 0], [0, 0, 1]], 0)\n",
    "\n",
    "\n",
    "e = np.zeros_like(a)\n",
    "for i in range(len(e)):\n",
    "    e[i][i] = 1\n",
    "a_t = a.transpose()\n",
    "m = a.dot(a_t)\n",
    "\n",
    "result = np.sum(m == e) / m.size\n",
    "if result == 1.0:\n",
    "    print(\"Матрица верхнетреугольная, ортогональная\")\n",
    "else:\n",
    "    print(\"Матрица не ортогональная\")"
   ]
  },
  {
   "cell_type": "markdown",
   "id": "solved-marriage",
   "metadata": {},
   "source": [
    "#### 3."
   ]
  },
  {
   "cell_type": "code",
   "execution_count": 4,
   "id": "declared-placement",
   "metadata": {
    "scrolled": true
   },
   "outputs": [
    {
     "data": {
      "text/plain": [
       "array([[1, 0, 0],\n",
       "       [0, 1, 0],\n",
       "       [0, 0, 1]])"
      ]
     },
     "execution_count": 4,
     "metadata": {},
     "output_type": "execute_result"
    }
   ],
   "source": [
    "a = np.tril([[1, 0, 0], [0, 1, 0], [0, 0, 1]], 0)\n",
    "a"
   ]
  },
  {
   "cell_type": "markdown",
   "id": "extended-vegetarian",
   "metadata": {},
   "source": [
    "#### 4."
   ]
  },
  {
   "cell_type": "code",
   "execution_count": 5,
   "id": "intermediate-university",
   "metadata": {},
   "outputs": [
    {
     "name": "stdout",
     "output_type": "stream",
     "text": [
      "Определитель равен 1\n"
     ]
    }
   ],
   "source": [
    "# a = np.array([[1, 0], [1, 1]])\n",
    "# a = np.array([[1, 1], [0, 1]])\n",
    "a = np.array([[2, 5], [1, 3]])\n",
    "if np.linalg.det(a) == 1.0:\n",
    "    print(\"Определитель равен 1\")\n",
    "else:\n",
    "    print(\"Определитель не равен 1\")\n"
   ]
  },
  {
   "cell_type": "markdown",
   "id": "mighty-documentary",
   "metadata": {},
   "source": [
    "#### 5"
   ]
  },
  {
   "cell_type": "code",
   "execution_count": 6,
   "id": "specialized-cleaning",
   "metadata": {},
   "outputs": [],
   "source": [
    "m = np.array([[2, 2],\n",
    "              [1, 3]])"
   ]
  },
  {
   "cell_type": "code",
   "execution_count": 7,
   "id": "perceived-klein",
   "metadata": {},
   "outputs": [
    {
     "name": "stdout",
     "output_type": "stream",
     "text": [
      "[1. 4.] [[-0.89442719 -0.70710678]\n",
      " [ 0.4472136  -0.70710678]]\n"
     ]
    }
   ],
   "source": [
    "w, v = np.linalg.eig(m)\n",
    "print(w, v)"
   ]
  },
  {
   "cell_type": "code",
   "execution_count": 8,
   "id": "heated-water",
   "metadata": {
    "scrolled": true
   },
   "outputs": [
    {
     "name": "stdout",
     "output_type": "stream",
     "text": [
      "Собственное значение 1.0\n",
      "Cоответствующий ему собственный вектор [-0.89442719  0.4472136 ]\n",
      "Собственное значение 4.0\n",
      "Cоответствующий ему собственный вектор [-0.70710678 -0.70710678]\n"
     ]
    }
   ],
   "source": [
    "for i in range(len(w)):\n",
    "    print(\"Собственное значение \" + str(w[i]))\n",
    "    print(\"Cоответствующий ему собственный вектор \" + str(v[:,i]))"
   ]
  },
  {
   "cell_type": "markdown",
   "id": "protected-spice",
   "metadata": {},
   "source": [
    "### Уровень 1."
   ]
  },
  {
   "cell_type": "code",
   "execution_count": 9,
   "id": "southwest-oracle",
   "metadata": {},
   "outputs": [
    {
     "name": "stdout",
     "output_type": "stream",
     "text": [
      "[[1 2]\n",
      " [2 3]]\n"
     ]
    }
   ],
   "source": [
    "m = np.array([[1, 2],\n",
    "              [2,3]])\n",
    "print(m)"
   ]
  },
  {
   "cell_type": "code",
   "execution_count": 11,
   "id": "destroyed-intermediate",
   "metadata": {},
   "outputs": [],
   "source": [
    "import sklearn"
   ]
  },
  {
   "cell_type": "code",
   "execution_count": 13,
   "id": "spare-opening",
   "metadata": {},
   "outputs": [
    {
     "data": {
      "text/plain": [
       "PCA(n_components=array([[1, 2],\n",
       "       [2, 3]]))"
      ]
     },
     "execution_count": 13,
     "metadata": {},
     "output_type": "execute_result"
    }
   ],
   "source": [
    "sklearn.decomposition.PCA(m)"
   ]
  },
  {
   "cell_type": "code",
   "execution_count": null,
   "id": "aggregate-advisory",
   "metadata": {},
   "outputs": [],
   "source": []
  }
 ],
 "metadata": {
  "kernelspec": {
   "display_name": "Python 3",
   "language": "python",
   "name": "python3"
  },
  "language_info": {
   "codemirror_mode": {
    "name": "ipython",
    "version": 3
   },
   "file_extension": ".py",
   "mimetype": "text/x-python",
   "name": "python",
   "nbconvert_exporter": "python",
   "pygments_lexer": "ipython3",
   "version": "3.9.0"
  }
 },
 "nbformat": 4,
 "nbformat_minor": 5
}
