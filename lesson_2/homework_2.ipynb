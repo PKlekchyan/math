{
 "cells": [
  {
   "cell_type": "code",
   "execution_count": 1,
   "id": "working-liability",
   "metadata": {},
   "outputs": [],
   "source": [
    "import numpy as np"
   ]
  },
  {
   "cell_type": "markdown",
   "id": "expensive-kenya",
   "metadata": {},
   "source": [
    "### Уровень 0"
   ]
  },
  {
   "cell_type": "code",
   "execution_count": 2,
   "id": "accurate-yukon",
   "metadata": {
    "scrolled": true
   },
   "outputs": [],
   "source": [
    "a = np.array([[1,2,3], [4,5,6], [7,8,9]])"
   ]
  },
  {
   "cell_type": "code",
   "execution_count": 3,
   "id": "satisfied-russia",
   "metadata": {},
   "outputs": [],
   "source": [
    "b = np.eye(3)"
   ]
  },
  {
   "cell_type": "code",
   "execution_count": 4,
   "id": "surprised-devil",
   "metadata": {},
   "outputs": [
    {
     "data": {
      "text/plain": [
       "array([[ 2.,  2.,  3.],\n",
       "       [ 4.,  6.,  6.],\n",
       "       [ 7.,  8., 10.]])"
      ]
     },
     "execution_count": 4,
     "metadata": {},
     "output_type": "execute_result"
    }
   ],
   "source": [
    "c = a+b\n",
    "c"
   ]
  },
  {
   "cell_type": "code",
   "execution_count": 5,
   "id": "continued-snapshot",
   "metadata": {},
   "outputs": [
    {
     "data": {
      "text/plain": [
       "array([15., 34., 53.])"
      ]
     },
     "execution_count": 5,
     "metadata": {},
     "output_type": "execute_result"
    }
   ],
   "source": [
    "v1 = np.array([1,2,3])\n",
    "mult1 = c@v1\n",
    "mult1"
   ]
  },
  {
   "cell_type": "code",
   "execution_count": 6,
   "id": "analyzed-shore",
   "metadata": {},
   "outputs": [
    {
     "data": {
      "text/plain": [
       "array([[-6.00000000e+00, -2.00000000e+00,  3.00000000e+00],\n",
       "       [-1.00000000e+00,  5.00000000e-01, -2.33146835e-16],\n",
       "       [ 5.00000000e+00,  1.00000000e+00, -2.00000000e+00]])"
      ]
     },
     "execution_count": 6,
     "metadata": {},
     "output_type": "execute_result"
    }
   ],
   "source": [
    "c_ = np.linalg.inv(c)\n",
    "c_"
   ]
  },
  {
   "cell_type": "markdown",
   "id": "preceding-proof",
   "metadata": {},
   "source": [
    "### Уровень 1"
   ]
  },
  {
   "cell_type": "code",
   "execution_count": 7,
   "id": "painful-arkansas",
   "metadata": {
    "scrolled": false
   },
   "outputs": [
    {
     "data": {
      "text/plain": [
       "(-200.0, 200.0)"
      ]
     },
     "execution_count": 7,
     "metadata": {},
     "output_type": "execute_result"
    },
    {
     "data": {
      "image/png": "[encoded data removed]",
      "text/plain": [
       "<Figure size 432x288 with 1 Axes>"
      ]
     },
     "metadata": {
      "needs_background": "light"
     },
     "output_type": "display_data"
    }
   ],
   "source": [
    "import numpy as np\n",
    "import matplotlib.pyplot as plt\n",
    "\n",
    "A = [\n",
    "[-100, -100, 1],\n",
    "[-100, 100, 1],\n",
    "[100, 100, 1],\n",
    "[0, 0, 1],\n",
    "[100, -100, 1],\n",
    "[-100, -100, 1]\n",
    "]\n",
    "\n",
    "A = np.array(A)\n",
    "x = A[:,0]\n",
    "y = A[:,1]\n",
    "\n",
    "plt.plot(x, y)\n",
    "plt.ylim([-200, 200])\n",
    "plt.xlim([-200, 200])"
   ]
  },
  {
   "cell_type": "markdown",
   "id": "promising-penguin",
   "metadata": {},
   "source": [
    "### Уменьшение объекта в два раза"
   ]
  },
  {
   "cell_type": "code",
   "execution_count": 8,
   "id": "chicken-ghost",
   "metadata": {},
   "outputs": [],
   "source": [
    "f = np.array([[0.5, 0,0], [0, 0.5, 0], [0, 0, 0.5]])\n"
   ]
  },
  {
   "cell_type": "code",
   "execution_count": 9,
   "id": "awful-quest",
   "metadata": {
    "scrolled": true
   },
   "outputs": [
    {
     "data": {
      "text/plain": [
       "(-200.0, 200.0)"
      ]
     },
     "execution_count": 9,
     "metadata": {},
     "output_type": "execute_result"
    },
    {
     "data": {
      "image/png": "[encoded data removed]",
      "text/plain": [
       "<Figure size 432x288 with 1 Axes>"
      ]
     },
     "metadata": {
      "needs_background": "light"
     },
     "output_type": "display_data"
    }
   ],
   "source": [
    "A = A@f\n",
    "\n",
    "x = A[:,0]\n",
    "y = A[:,1]\n",
    "\n",
    "plt.plot(x, y)\n",
    "plt.ylim([-200, 200])\n",
    "plt.xlim([-200, 200])"
   ]
  },
  {
   "cell_type": "markdown",
   "id": "three-adaptation",
   "metadata": {},
   "source": [
    "### Поворот на 130 градусов"
   ]
  },
  {
   "cell_type": "code",
   "execution_count": 10,
   "id": "acknowledged-regression",
   "metadata": {},
   "outputs": [],
   "source": [
    "m_x = np.array([[1, 0, 0], [0, np.cos(130), -np.sin(130)], [0, np.sin(130), np.cos(130)]])\n",
    "m_y = np.array([[np.cos(130), 0, np.sin(130)], [0, 1, 0], [-np.sin(130), 0, np.cos(130)]])\n",
    "m_z = np.array([[np.cos(130), -np.sin(130), 0], [np.sin(130), np.cos(130), 0], [0, 0, 1]])"
   ]
  },
  {
   "cell_type": "code",
   "execution_count": 11,
   "id": "terminal-spare",
   "metadata": {
    "scrolled": true
   },
   "outputs": [
    {
     "data": {
      "text/plain": [
       "(-200.0, 200.0)"
      ]
     },
     "execution_count": 11,
     "metadata": {},
     "output_type": "execute_result"
    },
    {
     "data": {
      "image/png": "[encoded data removed]",
      "text/plain": [
       "<Figure size 432x288 with 1 Axes>"
      ]
     },
     "metadata": {
      "needs_background": "light"
     },
     "output_type": "display_data"
    }
   ],
   "source": [
    "A = ((A@m_z)@m_y)@m_x\n",
    "\n",
    "x = A[:,0]\n",
    "y = A[:,1]\n",
    "\n",
    "plt.plot(x, y)\n",
    "plt.ylim([-200, 200])\n",
    "plt.xlim([-200, 200])\n",
    "# plt.xlabel('X')\n",
    "# plt.ylabel('Y')\n",
    "# plt.zlabel('Z')"
   ]
  },
  {
   "cell_type": "code",
   "execution_count": null,
   "id": "white-disease",
   "metadata": {},
   "outputs": [],
   "source": []
  },
  {
   "cell_type": "code",
   "execution_count": null,
   "id": "continental-pollution",
   "metadata": {},
   "outputs": [],
   "source": []
  },
  {
   "cell_type": "code",
   "execution_count": null,
   "id": "intended-amino",
   "metadata": {},
   "outputs": [],
   "source": []
  }
 ],
 "metadata": {
  "kernelspec": {
   "display_name": "Python 3",
   "language": "python",
   "name": "python3"
  },
  "language_info": {
   "codemirror_mode": {
    "name": "ipython",
    "version": 3
   },
   "file_extension": ".py",
   "mimetype": "text/x-python",
   "name": "python",
   "nbconvert_exporter": "python",
   "pygments_lexer": "ipython3",
   "version": "3.9.0"
  }
 },
 "nbformat": 4,
 "nbformat_minor": 5
}
