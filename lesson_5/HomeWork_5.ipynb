{
 "cells": [
  {
   "cell_type": "code",
   "execution_count": 1,
   "id": "informative-cosmetic",
   "metadata": {},
   "outputs": [],
   "source": [
    "import numpy as np\n",
    "from scipy.optimize import approx_fprime\n",
    "from scipy.misc import derivative\n",
    "from sympy import *"
   ]
  },
  {
   "cell_type": "markdown",
   "id": "seeing-evans",
   "metadata": {},
   "source": [
    "### Уровень 0."
   ]
  },
  {
   "cell_type": "markdown",
   "id": "swiss-continuity",
   "metadata": {},
   "source": [
    "#### 1."
   ]
  },
  {
   "cell_type": "code",
   "execution_count": 2,
   "id": "subsequent-glenn",
   "metadata": {},
   "outputs": [],
   "source": [
    "x, y = symbols(\"x y\")\n",
    "function = 2*x**2*y**3 + 1/x + y**2*x + 7\n",
    "dif_x = diff(function, x)\n",
    "dif_y = diff(function, y)"
   ]
  },
  {
   "cell_type": "code",
   "execution_count": 3,
   "id": "raised-edmonton",
   "metadata": {
    "scrolled": true
   },
   "outputs": [
    {
     "name": "stdout",
     "output_type": "stream",
     "text": [
      "Частная производная по Х: 4*x*y**3 + y**2 - 1/x**2\n",
      "Частная производная по Y: 6*x**2*y**2 + 2*x*y\n"
     ]
    }
   ],
   "source": [
    "print(\"Частная производная по Х:\", dif_x)\n",
    "print(\"Частная производная по Y:\", dif_y)"
   ]
  },
  {
   "cell_type": "code",
   "execution_count": 41,
   "id": "broken-violin",
   "metadata": {},
   "outputs": [
    {
     "name": "stdout",
     "output_type": "stream",
     "text": [
      "Градиент в точке (1,2): [35.00000024 28.00000024]\n"
     ]
    }
   ],
   "source": [
    "def funct(x):\n",
    "    return 2*x[0]**2*x[1]**3 + 1/x[0] + x[1]**2*x[0] + 7\n",
    "\n",
    "eps = np.sqrt(np.finfo(float).eps)\n",
    "x = np.array([1,2])\n",
    "\n",
    "result = approx_fprime(x, funct, eps)\n",
    "print(\"Градиент в точке (1,2):\", result)"
   ]
  },
  {
   "cell_type": "markdown",
   "id": "optional-regulation",
   "metadata": {},
   "source": [
    "#### 2."
   ]
  },
  {
   "cell_type": "code",
   "execution_count": null,
   "id": "perceived-glance",
   "metadata": {},
   "outputs": [],
   "source": [
    "x, y = symbols(\"x y\")\n",
    "function = x**2*y - sin(x*y) + cos(x**2) + 6*y\n",
    "dif_x = diff(function, x)\n",
    "dif_y = diff(function, y)\n",
    "\n",
    "print(\"Частная производная по Х:\", dif_x)\n",
    "print(\"Частная производная по Y:\", dif_y)"
   ]
  },
  {
   "cell_type": "markdown",
   "id": "anticipated-retirement",
   "metadata": {},
   "source": [
    "### Уровень 1."
   ]
  },
  {
   "cell_type": "code",
   "execution_count": 43,
   "id": "horizontal-moses",
   "metadata": {},
   "outputs": [],
   "source": [
    "from scipy.optimize import minimize\n",
    "\n",
    "def f(x):\n",
    "    return (x[0]**2) + (x[1]**2)"
   ]
  },
  {
   "cell_type": "code",
   "execution_count": 47,
   "id": "accomplished-paraguay",
   "metadata": {},
   "outputs": [
    {
     "name": "stdout",
     "output_type": "stream",
     "text": [
      " final_simplex: (array([[-3.66706856e-07,  3.42397191e-07],\n",
      "       [-1.03645562e-08, -5.80642499e-07],\n",
      "       [-1.03878191e-06, -4.68542809e-07]]), array([2.51709755e-13, 3.37253136e-13, 1.29860023e-12]))\n",
      "           fun: 2.517097545234263e-13\n",
      "       message: 'Optimization terminated successfully.'\n",
      "          nfev: 136\n",
      "           nit: 71\n",
      "        status: 0\n",
      "       success: True\n",
      "             x: array([-3.66706856e-07,  3.42397191e-07])\n",
      "\n",
      " final_simplex: (array([[-2.93319137e-07,  2.73896989e-07],\n",
      "       [-8.28984589e-09, -4.64477070e-07],\n",
      "       [-8.30895164e-07, -3.74804324e-07]]), array([1.61055677e-13, 2.15807670e-13, 8.30865056e-13]))\n",
      "           fun: 1.6105567681357577e-13\n",
      "       message: 'Optimization terminated successfully.'\n",
      "          nfev: 136\n",
      "           nit: 71\n",
      "        status: 0\n",
      "       success: True\n",
      "             x: array([-2.93319137e-07,  2.73896989e-07])\n",
      "\n",
      " final_simplex: (array([[-2.34609996e-07,  2.19096015e-07],\n",
      "       [-6.64586798e-07, -2.99814349e-07],\n",
      "       [ 4.36336174e-07, -7.02731910e-07]]), array([1.03044914e-13, 5.31564256e-13, 6.84221394e-13]))\n",
      "           fun: 1.0304491398060291e-13\n",
      "       message: 'Optimization terminated successfully.'\n",
      "          nfev: 134\n",
      "           nit: 70\n",
      "        status: 0\n",
      "       success: True\n",
      "             x: array([-2.34609996e-07,  2.19096015e-07])\n",
      "\n",
      " final_simplex: (array([[-5.31539462e-07, -2.39821964e-07],\n",
      "       [ 3.48983789e-07, -5.62116657e-07],\n",
      "       [-2.84006245e-07,  7.51480590e-07]]), array([3.40048775e-13, 4.37764820e-13, 6.45382624e-13]))\n",
      "           fun: 3.4004877470735775e-13\n",
      "       message: 'Optimization terminated successfully.'\n",
      "          nfev: 132\n",
      "           nit: 69\n",
      "        status: 0\n",
      "       success: True\n",
      "             x: array([-5.31539462e-07, -2.39821964e-07])\n",
      "\n",
      " final_simplex: (array([[-4.25101737e-07, -1.91828460e-07],\n",
      "       [ 2.79101738e-07, -4.49624857e-07],\n",
      "       [-2.27135639e-07,  6.01092531e-07]]), array([2.17509644e-13, 2.80060292e-13, 4.12902830e-13]))\n",
      "           fun: 2.1750964449929974e-13\n",
      "       message: 'Optimization terminated successfully.'\n",
      "          nfev: 132\n",
      "           nit: 69\n",
      "        status: 0\n",
      "       success: True\n",
      "             x: array([-4.25101737e-07, -1.91828460e-07])\n",
      "\n",
      " final_simplex: (array([[ 2.23196150e-07, -3.59631819e-07],\n",
      "       [-1.81639101e-07,  4.80781683e-07],\n",
      "       [-7.00681530e-07, -3.67443048e-07]]), array([1.79151567e-13, 2.64143789e-13, 6.25969000e-13]))\n",
      "           fun: 1.7915156662414898e-13\n",
      "       message: 'Optimization terminated successfully.'\n",
      "          nfev: 130\n",
      "           nit: 68\n",
      "        status: 0\n",
      "       success: True\n",
      "             x: array([ 2.23196150e-07, -3.59631819e-07])\n",
      "\n",
      " final_simplex: (array([[ 1.78471679e-07, -2.87636277e-07],\n",
      "       [-1.45241872e-07,  3.84534115e-07],\n",
      "       [-5.60277537e-07, -2.93883769e-07]]), array([1.14586768e-13, 1.68961687e-13, 4.00278588e-13]))\n",
      "           fun: 1.1458676808357634e-13\n",
      "       message: 'Optimization terminated successfully.'\n",
      "          nfev: 130\n",
      "           nit: 68\n",
      "        status: 0\n",
      "       success: True\n",
      "             x: array([ 1.78471679e-07, -2.87636277e-07])\n",
      "\n",
      " final_simplex: (array([[-1.16124130e-07,  3.07535594e-07],\n",
      "       [-4.47954384e-07, -2.35036814e-07],\n",
      "       [ 5.67423379e-07, -4.96330012e-07]]), array([1.08062955e-13, 2.55905434e-13, 5.68312772e-13]))\n",
      "           fun: 1.0806295483531176e-13\n",
      "       message: 'Optimization terminated successfully.'\n",
      "          nfev: 128\n",
      "           nit: 67\n",
      "        status: 0\n",
      "       success: True\n",
      "             x: array([-1.16124130e-07,  3.07535594e-07])\n",
      "\n",
      " final_simplex: (array([[-3.58095932e-07, -1.87959320e-07],\n",
      "       [ 4.53599561e-07, -3.96915910e-07],\n",
      "       [-2.33411828e-07,  7.84311027e-07]]), array([1.63561403e-13, 3.63294802e-13, 6.69624869e-13]))\n",
      "           fun: 1.6356140259517995e-13\n",
      "       message: 'Optimization terminated successfully.'\n",
      "          nfev: 126\n",
      "           nit: 66\n",
      "        status: 0\n",
      "       success: True\n",
      "             x: array([-3.58095932e-07, -1.87959320e-07])\n",
      "\n",
      " final_simplex: (array([[-2.86208863e-07, -1.50297378e-07],\n",
      "       [ 3.62540814e-07, -3.17384682e-07],\n",
      "       [-1.86554778e-07,  6.27156115e-07]]), array([1.04504815e-13, 2.32168878e-13, 4.28127478e-13]))\n",
      "           fun: 1.0450481536025062e-13\n",
      "       message: 'Optimization terminated successfully.'\n",
      "          nfev: 126\n",
      "           nit: 66\n",
      "        status: 0\n",
      "       success: True\n",
      "             x: array([-2.86208863e-07, -1.50297378e-07])\n",
      "\n"
     ]
    }
   ],
   "source": [
    "x = np.array([100, 200])\n",
    "learning_rate = 0.1\n",
    "grad = approx_fprime(x, f, learning_rate)\n",
    "grad[0]\n",
    "\n",
    "for i in range(10):\n",
    "    grad = approx_fprime(x, f, learning_rate)\n",
    "    x = x-learning_rate*grad\n",
    "    \n",
    "    res = minimize(f, x, method='Nelder-Mead', tol=1e-6)\n",
    "    print(res)\n",
    "    print()\n"
   ]
  },
  {
   "cell_type": "code",
   "execution_count": null,
   "id": "vertical-whole",
   "metadata": {},
   "outputs": [],
   "source": []
  },
  {
   "cell_type": "code",
   "execution_count": null,
   "id": "pediatric-paintball",
   "metadata": {},
   "outputs": [],
   "source": [
    "print(\"Минимум достигается в: \", x)\n",
    "print(\"Значение функции в минимуме: \", f(x))"
   ]
  },
  {
   "cell_type": "code",
   "execution_count": null,
   "id": "elementary-radius",
   "metadata": {},
   "outputs": [],
   "source": []
  },
  {
   "cell_type": "code",
   "execution_count": null,
   "id": "yellow-frequency",
   "metadata": {},
   "outputs": [],
   "source": []
  }
 ],
 "metadata": {
  "kernelspec": {
   "display_name": "Python 3",
   "language": "python",
   "name": "python3"
  },
  "language_info": {
   "codemirror_mode": {
    "name": "ipython",
    "version": 3
   },
   "file_extension": ".py",
   "mimetype": "text/x-python",
   "name": "python",
   "nbconvert_exporter": "python",
   "pygments_lexer": "ipython3",
   "version": "3.9.0"
  }
 },
 "nbformat": 4,
 "nbformat_minor": 5
}
