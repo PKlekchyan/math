{
 "cells": [
  {
   "cell_type": "code",
   "execution_count": 34,
   "id": "informative-cosmetic",
   "metadata": {},
   "outputs": [],
   "source": [
    "import numpy as np\n",
    "from scipy.optimize import approx_fprime\n",
    "from scipy.misc import derivative\n",
    "from sympy import *\n",
    "import matplotlib.pyplot as plt"
   ]
  },
  {
   "cell_type": "markdown",
   "id": "seeing-evans",
   "metadata": {},
   "source": [
    "### Уровень 0."
   ]
  },
  {
   "cell_type": "markdown",
   "id": "swiss-continuity",
   "metadata": {},
   "source": [
    "#### 1."
   ]
  },
  {
   "cell_type": "code",
   "execution_count": 2,
   "id": "subsequent-glenn",
   "metadata": {},
   "outputs": [],
   "source": [
    "x, y = symbols(\"x y\")\n",
    "function = 2*x**2*y**3 + 1/x + y**2*x + 7\n",
    "dif_x = diff(function, x)\n",
    "dif_y = diff(function, y)"
   ]
  },
  {
   "cell_type": "code",
   "execution_count": 3,
   "id": "raised-edmonton",
   "metadata": {
    "scrolled": true
   },
   "outputs": [
    {
     "name": "stdout",
     "output_type": "stream",
     "text": [
      "Частная производная по Х: 4*x*y**3 + y**2 - 1/x**2\n",
      "Частная производная по Y: 6*x**2*y**2 + 2*x*y\n"
     ]
    }
   ],
   "source": [
    "print(\"Частная производная по Х:\", dif_x)\n",
    "print(\"Частная производная по Y:\", dif_y)"
   ]
  },
  {
   "cell_type": "code",
   "execution_count": 4,
   "id": "broken-violin",
   "metadata": {},
   "outputs": [
    {
     "name": "stdout",
     "output_type": "stream",
     "text": [
      "Градиент в точке (1,2): [35.00000024 28.00000024]\n"
     ]
    }
   ],
   "source": [
    "def funct(x):\n",
    "    return 2*x[0]**2*x[1]**3 + 1/x[0] + x[1]**2*x[0] + 7\n",
    "\n",
    "eps = np.sqrt(np.finfo(float).eps)\n",
    "x = np.array([1,2])\n",
    "\n",
    "result = approx_fprime(x, funct, eps)\n",
    "print(\"Градиент в точке (1,2):\", result)"
   ]
  },
  {
   "cell_type": "markdown",
   "id": "optional-regulation",
   "metadata": {},
   "source": [
    "#### 2."
   ]
  },
  {
   "cell_type": "code",
   "execution_count": 5,
   "id": "perceived-glance",
   "metadata": {},
   "outputs": [
    {
     "name": "stdout",
     "output_type": "stream",
     "text": [
      "Частная производная по Х: 2*x*y - 2*x*sin(x**2) - y*cos(x*y)\n",
      "Частная производная по Y: x**2 - x*cos(x*y) + 6\n"
     ]
    }
   ],
   "source": [
    "x, y = symbols(\"x y\")\n",
    "function = x**2*y - sin(x*y) + cos(x**2) + 6*y\n",
    "dif_x = diff(function, x)\n",
    "dif_y = diff(function, y)\n",
    "\n",
    "print(\"Частная производная по Х:\", dif_x)\n",
    "print(\"Частная производная по Y:\", dif_y)"
   ]
  },
  {
   "cell_type": "markdown",
   "id": "anticipated-retirement",
   "metadata": {},
   "source": [
    "### Уровень 1."
   ]
  },
  {
   "cell_type": "code",
   "execution_count": 54,
   "id": "horizontal-moses",
   "metadata": {},
   "outputs": [],
   "source": [
    "def f(x):\n",
    "    return (x[0]**2) + (x[1]**2)"
   ]
  },
  {
   "cell_type": "code",
   "execution_count": 55,
   "id": "accomplished-paraguay",
   "metadata": {},
   "outputs": [],
   "source": [
    "x = np.array([100, 200])\n",
    "learning_rate = 0.1\n",
    "grad = approx_fprime(x, f, learning_rate)\n",
    "grad[0]\n",
    "\n",
    "for i in range(100):\n",
    "    grad = approx_fprime(x, f, learning_rate)\n",
    "    x = x-learning_rate*grad\n",
    "\n"
   ]
  },
  {
   "cell_type": "code",
   "execution_count": 56,
   "id": "pediatric-paintball",
   "metadata": {},
   "outputs": [
    {
     "name": "stdout",
     "output_type": "stream",
     "text": [
      "minimum: x = -0.0499999796, y = -0.0499999592, f(x) = 0.0049999939\n"
     ]
    }
   ],
   "source": [
    "print('minimum: x = %.10f, y = %.10f, f(x) = %.10f' % (x[0], x[1], f(x)))"
   ]
  },
  {
   "cell_type": "code",
   "execution_count": null,
   "id": "economic-theater",
   "metadata": {},
   "outputs": [],
   "source": []
  },
  {
   "cell_type": "code",
   "execution_count": 57,
   "id": "elementary-radius",
   "metadata": {},
   "outputs": [
    {
     "name": "stdout",
     "output_type": "stream",
     "text": [
      "Optimization terminated successfully.\n",
      "         Current function value: 0.000000\n",
      "         Iterations: 68\n",
      "         Function evaluations: 127\n",
      "minimum: x = 0.0000000029, y = -0.0000000010, f(x) = 0.00000000000000000936\n"
     ]
    }
   ],
   "source": [
    "from scipy.optimize import minimize\n",
    "x0 = np.array([1, 1])\n",
    "mini = minimize(f, x0, method='nelder-mead', options={'xtol': 1e-8, 'disp': True})\n",
    "print('minimum: x = %.10f, y = %.10f, f(x) = %.20f' % (mini.x[0], mini.x[1], mini.fun))"
   ]
  },
  {
   "cell_type": "code",
   "execution_count": null,
   "id": "yellow-frequency",
   "metadata": {},
   "outputs": [],
   "source": []
  },
  {
   "cell_type": "code",
   "execution_count": 62,
   "id": "parliamentary-adrian",
   "metadata": {},
   "outputs": [],
   "source": [
    "x = [np.linspace(-10, 10, 40), np.linspace(-10, 10, 40)]"
   ]
  },
  {
   "cell_type": "code",
   "execution_count": 64,
   "id": "electric-moses",
   "metadata": {
    "scrolled": true
   },
   "outputs": [
    {
     "data": {
      "image/png": "[encoded data removed]",
      "text/plain": [
       "<Figure size 432x288 with 1 Axes>"
      ]
     },
     "metadata": {
      "needs_background": "light"
     },
     "output_type": "display_data"
    }
   ],
   "source": [
    "plt.figure()\n",
    "plt.axes(projection=\"3d\")\n",
    "plt.plot(mini.x[0], mini.x[1], mini.fun, 'ro')\n",
    "plt.plot(x[0], x[1], f(x))\n",
    "plt.show()"
   ]
  }
 ],
 "metadata": {
  "kernelspec": {
   "display_name": "Python 3",
   "language": "python",
   "name": "python3"
  },
  "language_info": {
   "codemirror_mode": {
    "name": "ipython",
    "version": 3
   },
   "file_extension": ".py",
   "mimetype": "text/x-python",
   "name": "python",
   "nbconvert_exporter": "python",
   "pygments_lexer": "ipython3",
   "version": "3.9.0"
  }
 },
 "nbformat": 4,
 "nbformat_minor": 5
}
