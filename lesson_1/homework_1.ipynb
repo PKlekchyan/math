{
 "cells": [
  {
   "cell_type": "code",
   "execution_count": 9,
   "id": "cross-future",
   "metadata": {},
   "outputs": [],
   "source": [
    "import numpy as np\n",
    "import matplotlib.pyplot as plt"
   ]
  },
  {
   "cell_type": "code",
   "execution_count": 7,
   "id": "simplified-intelligence",
   "metadata": {},
   "outputs": [],
   "source": [
    "x = np.array([1,1])\n",
    "y = np.array([2,0])\n",
    "z = np.array([0,2])"
   ]
  },
  {
   "cell_type": "markdown",
   "id": "intimate-prince",
   "metadata": {},
   "source": [
    "### 1."
   ]
  },
  {
   "cell_type": "code",
   "execution_count": 16,
   "id": "fifth-solid",
   "metadata": {
    "scrolled": true
   },
   "outputs": [
    {
     "data": {
      "image/png": "[encoded data removed]",
      "text/plain": [
       "<Figure size 432x288 with 1 Axes>"
      ]
     },
     "metadata": {
      "needs_background": "light"
     },
     "output_type": "display_data"
    }
   ],
   "source": [
    "plt.figure()\n",
    "plt.plot(x[0], x[1], 'o')\n",
    "plt.plot(y[0], y[1], 'o')\n",
    "plt.plot(z[0], z[1], 'o')\n",
    "plt.grid()"
   ]
  },
  {
   "cell_type": "markdown",
   "id": "religious-applicant",
   "metadata": {},
   "source": [
    "### 2."
   ]
  },
  {
   "cell_type": "code",
   "execution_count": 21,
   "id": "understanding-innocent",
   "metadata": {
    "scrolled": true
   },
   "outputs": [
    {
     "data": {
      "image/png": "[encoded data removed]",
      "text/plain": [
       "<Figure size 432x288 with 1 Axes>"
      ]
     },
     "metadata": {
      "needs_background": "light"
     },
     "output_type": "display_data"
    }
   ],
   "source": [
    "point = x+y+z\n",
    "plt.figure()\n",
    "plt.plot(point[0], point[1], 'o')\n",
    "plt.grid()"
   ]
  },
  {
   "cell_type": "markdown",
   "id": "basic-player",
   "metadata": {},
   "source": [
    "### 3."
   ]
  },
  {
   "cell_type": "code",
   "execution_count": 24,
   "id": "decimal-zealand",
   "metadata": {},
   "outputs": [
    {
     "data": {
      "text/plain": [
       "0.71"
      ]
     },
     "execution_count": 24,
     "metadata": {},
     "output_type": "execute_result"
    }
   ],
   "source": [
    "cos = (np.dot(x,y))/(((x[0]**2 + x[1]**2)**0.5)*((y[0]**2 + y[1]**2)**0.5))\n",
    "cos"
   ]
  },
  {
   "cell_type": "code",
   "execution_count": 28,
   "id": "physical-brooklyn",
   "metadata": {},
   "outputs": [
    {
     "data": {
      "text/plain": [
       "40.51423422706977"
      ]
     },
     "execution_count": 28,
     "metadata": {},
     "output_type": "execute_result"
    }
   ],
   "source": [
    "np.degrees(cos)"
   ]
  },
  {
   "cell_type": "code",
   "execution_count": 29,
   "id": "higher-spread",
   "metadata": {},
   "outputs": [
    {
     "data": {
      "text/plain": [
       "40.51423422706977"
      ]
     },
     "execution_count": 29,
     "metadata": {},
     "output_type": "execute_result"
    }
   ],
   "source": [
    "np.rad2deg(cos)"
   ]
  }
 ],
 "metadata": {
  "kernelspec": {
   "display_name": "Python 3",
   "language": "python",
   "name": "python3"
  },
  "language_info": {
   "codemirror_mode": {
    "name": "ipython",
    "version": 3
   },
   "file_extension": ".py",
   "mimetype": "text/x-python",
   "name": "python",
   "nbconvert_exporter": "python",
   "pygments_lexer": "ipython3",
   "version": "3.9.0"
  }
 },
 "nbformat": 4,
 "nbformat_minor": 5
}
