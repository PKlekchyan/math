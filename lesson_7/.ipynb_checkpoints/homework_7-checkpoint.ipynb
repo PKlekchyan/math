{
 "cells": [
  {
   "cell_type": "code",
   "execution_count": 3,
   "id": "casual-teaching",
   "metadata": {},
   "outputs": [],
   "source": [
    "import numpy as np\n",
    "import matplotlib.pyplot as plt\n",
    "from math import *"
   ]
  },
  {
   "cell_type": "markdown",
   "id": "neutral-stability",
   "metadata": {},
   "source": [
    "### Уровень 0."
   ]
  },
  {
   "cell_type": "markdown",
   "id": "sexual-header",
   "metadata": {},
   "source": [
    "#### Задание 1"
   ]
  },
  {
   "cell_type": "code",
   "execution_count": 17,
   "id": "inner-roots",
   "metadata": {},
   "outputs": [],
   "source": [
    "def f(x):\n",
    "    return factorial(x)"
   ]
  },
  {
   "cell_type": "code",
   "execution_count": 20,
   "id": "valuable-amateur",
   "metadata": {},
   "outputs": [],
   "source": [
    "def bernulli(p, n, k):\n",
    "    return (f(n)/(f(n-k)*f(k)))*p**k*(1-p)**(n-k)"
   ]
  },
  {
   "cell_type": "code",
   "execution_count": 82,
   "id": "introductory-brick",
   "metadata": {},
   "outputs": [],
   "source": [
    "simple_num = [1, 2, 3, 5, 7, 11, 13]"
   ]
  },
  {
   "cell_type": "code",
   "execution_count": 84,
   "id": "signed-coupon",
   "metadata": {},
   "outputs": [
    {
     "name": "stdout",
     "output_type": "stream",
     "text": [
      "Вероятность выпадения простого числа орлов: 0.3504\n"
     ]
    }
   ],
   "source": [
    "p = 0.\n",
    "for i in simple_num:\n",
    "    p+=bernulli(0.5, 15, i)\n",
    "print(\"Вероятность выпадения простого числа орлов:\", round(p, 4))"
   ]
  },
  {
   "cell_type": "markdown",
   "id": "convinced-double",
   "metadata": {},
   "source": [
    "#### Задание 2"
   ]
  },
  {
   "cell_type": "code",
   "execution_count": 124,
   "id": "simplified-world",
   "metadata": {},
   "outputs": [
    {
     "data": {
      "text/plain": [
       "(array([ 87.,  96.,  84.,  87.,  93.,  86.,  90.,  93.,  81., 100., 103.]),\n",
       " array([ 0.        ,  0.90909091,  1.81818182,  2.72727273,  3.63636364,\n",
       "         4.54545455,  5.45454545,  6.36363636,  7.27272727,  8.18181818,\n",
       "         9.09090909, 10.        ]),\n",
       " <BarContainer object of 11 artists>)"
      ]
     },
     "execution_count": 124,
     "metadata": {},
     "output_type": "execute_result"
    },
    {
     "data": {
      "image/png": "[encoded data removed]",
      "text/plain": [
       "<Figure size 432x288 with 1 Axes>"
      ]
     },
     "metadata": {
      "needs_background": "light"
     },
     "output_type": "display_data"
    }
   ],
   "source": [
    "values = np.random.randint(0, 11, size=1000)\n",
    "plt.hist(values, bins=11)"
   ]
  },
  {
   "cell_type": "code",
   "execution_count": 118,
   "id": "cellular-listening",
   "metadata": {
    "scrolled": true
   },
   "outputs": [
    {
     "name": "stdout",
     "output_type": "stream",
     "text": [
      "Дисперсия: 10.408951\n",
      "Среднее значение: 4.993\n",
      "Медиана: 5.0\n"
     ]
    }
   ],
   "source": [
    "print(\"Дисперсия:\", np.var(values))\n",
    "print(\"Среднее значение:\", np.mean(values))\n",
    "print(\"Медиана:\", np.median(values))"
   ]
  },
  {
   "cell_type": "code",
   "execution_count": null,
   "id": "judicial-soundtrack",
   "metadata": {},
   "outputs": [],
   "source": []
  },
  {
   "cell_type": "markdown",
   "id": "minor-position",
   "metadata": {},
   "source": [
    "Для интереса"
   ]
  },
  {
   "cell_type": "code",
   "execution_count": 68,
   "id": "wanted-scheduling",
   "metadata": {},
   "outputs": [],
   "source": [
    "values = np.random.triangular(0, 7, 10, size=1000)"
   ]
  },
  {
   "cell_type": "code",
   "execution_count": 69,
   "id": "reported-pickup",
   "metadata": {
    "scrolled": false
   },
   "outputs": [
    {
     "data": {
      "text/plain": [
       "(array([  3.,   8.,  21.,  31.,  32.,  55.,  37.,  49.,  54.,  64.,  83.,\n",
       "         67.,  87., 102., 102.,  61.,  69.,  40.,  27.,   8.]),\n",
       " array([0.16223907, 0.65073101, 1.13922295, 1.62771489, 2.11620683,\n",
       "        2.60469877, 3.09319071, 3.58168265, 4.07017458, 4.55866652,\n",
       "        5.04715846, 5.5356504 , 6.02414234, 6.51263428, 7.00112622,\n",
       "        7.48961816, 7.9781101 , 8.46660204, 8.95509398, 9.44358591,\n",
       "        9.93207785]),\n",
       " <BarContainer object of 20 artists>)"
      ]
     },
     "execution_count": 69,
     "metadata": {},
     "output_type": "execute_result"
    },
    {
     "data": {
      "image/png": "[encoded data removed]",
      "text/plain": [
       "<Figure size 432x288 with 1 Axes>"
      ]
     },
     "metadata": {
      "needs_background": "light"
     },
     "output_type": "display_data"
    }
   ],
   "source": [
    "plt.hist(values, bins=20)"
   ]
  },
  {
   "cell_type": "code",
   "execution_count": 70,
   "id": "activated-newspaper",
   "metadata": {
    "scrolled": true
   },
   "outputs": [
    {
     "name": "stdout",
     "output_type": "stream",
     "text": [
      "Дисперсия: 4.322199390028401\n",
      "Среднее значение: 5.690110076327981\n",
      "Медиана: 6.013253392294625\n"
     ]
    }
   ],
   "source": [
    "print(\"Дисперсия:\", np.var(values))\n",
    "print(\"Среднее значение:\", np.mean(values))\n",
    "print(\"Медиана:\", np.median(values))"
   ]
  },
  {
   "cell_type": "markdown",
   "id": "sought-herald",
   "metadata": {},
   "source": [
    "#### Семпл 1000 случайных значений дискретной случаной величины"
   ]
  },
  {
   "cell_type": "code",
   "execution_count": 52,
   "id": "declared-highlight",
   "metadata": {},
   "outputs": [],
   "source": [
    "array = [5, 7, 11, 17, 25, 35, 47, 61, 77, 95]\n",
    "sample = np.random.choice(array, size = 1000)"
   ]
  },
  {
   "cell_type": "code",
   "execution_count": 41,
   "id": "raising-gabriel",
   "metadata": {
    "scrolled": false
   },
   "outputs": [
    {
     "data": {
      "image/png": "[encoded data removed]",
      "text/plain": [
       "<Figure size 720x360 with 1 Axes>"
      ]
     },
     "metadata": {
      "needs_background": "light"
     },
     "output_type": "display_data"
    }
   ],
   "source": [
    "plt.figure(figsize=(10, 5))\n",
    "plt.hist(sample, bins=100)\n",
    "plt.xlabel(array)\n",
    "plt.show()"
   ]
  },
  {
   "cell_type": "code",
   "execution_count": 72,
   "id": "timely-saint",
   "metadata": {
    "scrolled": true
   },
   "outputs": [
    {
     "name": "stdout",
     "output_type": "stream",
     "text": [
      "Дисперсия: 867.8588759999999\n",
      "Среднее значение: 37.682\n",
      "Медиана: 35.0\n"
     ]
    }
   ],
   "source": [
    "print(\"Дисперсия:\", np.var(sample))\n",
    "print(\"Среднее значение:\", np.mean(sample))\n",
    "print(\"Медиана:\", np.median(sample))"
   ]
  },
  {
   "cell_type": "code",
   "execution_count": 74,
   "id": "alpha-sending",
   "metadata": {},
   "outputs": [
    {
     "name": "stdout",
     "output_type": "stream",
     "text": [
      "Дисперсия: 0    868.727604\n",
      "dtype: float64\n",
      "Среднее значение: 0    37.682\n",
      "dtype: float64\n",
      "Медиана: 0    35.0\n",
      "dtype: float64\n"
     ]
    }
   ],
   "source": [
    "import pandas as pd\n",
    "df = pd.DataFrame(sample)\n",
    "\n",
    "print(\"Дисперсия:\", df.std()**2)\n",
    "print(\"Среднее значение:\", df.mean())\n",
    "print(\"Медиана:\", df.median())\n"
   ]
  },
  {
   "cell_type": "markdown",
   "id": "refined-ministry",
   "metadata": {},
   "source": [
    "### Уровень 1."
   ]
  },
  {
   "cell_type": "markdown",
   "id": "cardiac-sierra",
   "metadata": {},
   "source": [
    "#### Задание 3"
   ]
  },
  {
   "cell_type": "code",
   "execution_count": null,
   "id": "motivated-healthcare",
   "metadata": {},
   "outputs": [],
   "source": []
  }
 ],
 "metadata": {
  "kernelspec": {
   "display_name": "Python 3",
   "language": "python",
   "name": "python3"
  },
  "language_info": {
   "codemirror_mode": {
    "name": "ipython",
    "version": 3
   },
   "file_extension": ".py",
   "mimetype": "text/x-python",
   "name": "python",
   "nbconvert_exporter": "python",
   "pygments_lexer": "ipython3",
   "version": "3.9.0"
  }
 },
 "nbformat": 4,
 "nbformat_minor": 5
}
