{
 "cells": [
  {
   "cell_type": "code",
   "execution_count": 5,
   "id": "casual-teaching",
   "metadata": {},
   "outputs": [],
   "source": [
    "import numpy as np\n",
    "import matplotlib.pyplot as plt\n",
    "from math import *"
   ]
  },
  {
   "cell_type": "markdown",
   "id": "neutral-stability",
   "metadata": {},
   "source": [
    "### Уровень 0."
   ]
  },
  {
   "cell_type": "markdown",
   "id": "sexual-header",
   "metadata": {},
   "source": [
    "#### Задание 1"
   ]
  },
  {
   "cell_type": "code",
   "execution_count": 17,
   "id": "inner-roots",
   "metadata": {},
   "outputs": [],
   "source": [
    "def f(x):\n",
    "    return factorial(x)"
   ]
  },
  {
   "cell_type": "code",
   "execution_count": 20,
   "id": "valuable-amateur",
   "metadata": {},
   "outputs": [],
   "source": [
    "def bernulli(p, n, k):\n",
    "    return (f(n)/(f(n-k)*f(k)))*p**k*(1-p)**(n-k)"
   ]
  },
  {
   "cell_type": "code",
   "execution_count": 82,
   "id": "introductory-brick",
   "metadata": {},
   "outputs": [],
   "source": [
    "simple_num = [1, 2, 3, 5, 7, 11, 13]"
   ]
  },
  {
   "cell_type": "code",
   "execution_count": 84,
   "id": "signed-coupon",
   "metadata": {},
   "outputs": [
    {
     "name": "stdout",
     "output_type": "stream",
     "text": [
      "Вероятность выпадения простого числа орлов: 0.3504\n"
     ]
    }
   ],
   "source": [
    "p = 0.\n",
    "for i in simple_num:\n",
    "    p+=bernulli(0.5, 15, i)\n",
    "print(\"Вероятность выпадения простого числа орлов:\", round(p, 4))"
   ]
  },
  {
   "cell_type": "markdown",
   "id": "convinced-double",
   "metadata": {},
   "source": [
    "#### Задание 2"
   ]
  },
  {
   "cell_type": "code",
   "execution_count": 124,
   "id": "simplified-world",
   "metadata": {},
   "outputs": [
    {
     "data": {
      "text/plain": [
       "(array([ 87.,  96.,  84.,  87.,  93.,  86.,  90.,  93.,  81., 100., 103.]),\n",
       " array([ 0.        ,  0.90909091,  1.81818182,  2.72727273,  3.63636364,\n",
       "         4.54545455,  5.45454545,  6.36363636,  7.27272727,  8.18181818,\n",
       "         9.09090909, 10.        ]),\n",
       " <BarContainer object of 11 artists>)"
      ]
     },
     "execution_count": 124,
     "metadata": {},
     "output_type": "execute_result"
    },
    {
     "data": {
      "image/png": "[encoded data removed]",
      "text/plain": [
       "<Figure size 432x288 with 1 Axes>"
      ]
     },
     "metadata": {
      "needs_background": "light"
     },
     "output_type": "display_data"
    }
   ],
   "source": [
    "values = np.random.randint(0, 11, size=1000)\n",
    "plt.hist(values, bins=11)"
   ]
  },
  {
   "cell_type": "code",
   "execution_count": 118,
   "id": "cellular-listening",
   "metadata": {
    "scrolled": true
   },
   "outputs": [
    {
     "name": "stdout",
     "output_type": "stream",
     "text": [
      "Дисперсия: 10.408951\n",
      "Среднее значение: 4.993\n",
      "Медиана: 5.0\n"
     ]
    }
   ],
   "source": [
    "print(\"Дисперсия:\", np.var(values))\n",
    "print(\"Среднее значение:\", np.mean(values))\n",
    "print(\"Медиана:\", np.median(values))"
   ]
  },
  {
   "cell_type": "code",
   "execution_count": null,
   "id": "judicial-soundtrack",
   "metadata": {},
   "outputs": [],
   "source": []
  },
  {
   "cell_type": "markdown",
   "id": "minor-position",
   "metadata": {},
   "source": [
    "Для интереса"
   ]
  },
  {
   "cell_type": "code",
   "execution_count": 100,
   "id": "wanted-scheduling",
   "metadata": {},
   "outputs": [],
   "source": [
    "values = np.random.triangular(0, 7, 10, size=1000)"
   ]
  },
  {
   "cell_type": "code",
   "execution_count": 101,
   "id": "reported-pickup",
   "metadata": {
    "scrolled": false
   },
   "outputs": [
    {
     "data": {
      "text/plain": [
       "(array([  6.,  11.,  16.,  21.,  39.,  35.,  48.,  61.,  64.,  57.,  90.,\n",
       "         62.,  80.,  83., 102.,  71.,  59.,  51.,  22.,  22.]),\n",
       " array([0.22693664, 0.70453111, 1.18212559, 1.65972006, 2.13731454,\n",
       "        2.61490901, 3.09250349, 3.57009796, 4.04769244, 4.52528692,\n",
       "        5.00288139, 5.48047587, 5.95807034, 6.43566482, 6.91325929,\n",
       "        7.39085377, 7.86844824, 8.34604272, 8.82363719, 9.30123167,\n",
       "        9.77882615]),\n",
       " <BarContainer object of 20 artists>)"
      ]
     },
     "execution_count": 101,
     "metadata": {},
     "output_type": "execute_result"
    },
    {
     "data": {
      "image/png": "[encoded data removed]",
      "text/plain": [
       "<Figure size 432x288 with 1 Axes>"
      ]
     },
     "metadata": {
      "needs_background": "light"
     },
     "output_type": "display_data"
    }
   ],
   "source": [
    "plt.hist(values, bins=20)"
   ]
  },
  {
   "cell_type": "code",
   "execution_count": 102,
   "id": "activated-newspaper",
   "metadata": {
    "scrolled": true
   },
   "outputs": [
    {
     "name": "stdout",
     "output_type": "stream",
     "text": [
      "Дисперсия: 4.323292301957554\n",
      "Среднее значение: 5.676122686276053\n",
      "Медиана: 5.8608800607708105\n"
     ]
    }
   ],
   "source": [
    "print(\"Дисперсия:\", np.var(values))\n",
    "print(\"Среднее значение:\", np.mean(values))\n",
    "print(\"Медиана:\", np.median(values))"
   ]
  },
  {
   "cell_type": "markdown",
   "id": "refined-ministry",
   "metadata": {},
   "source": [
    "### Уровень 1."
   ]
  },
  {
   "cell_type": "markdown",
   "id": "cardiac-sierra",
   "metadata": {},
   "source": [
    "#### Задание 3"
   ]
  },
  {
   "cell_type": "code",
   "execution_count": null,
   "id": "motivated-healthcare",
   "metadata": {},
   "outputs": [],
   "source": []
  }
 ],
 "metadata": {
  "kernelspec": {
   "display_name": "Python 3",
   "language": "python",
   "name": "python3"
  },
  "language_info": {
   "codemirror_mode": {
    "name": "ipython",
    "version": 3
   },
   "file_extension": ".py",
   "mimetype": "text/x-python",
   "name": "python",
   "nbconvert_exporter": "python",
   "pygments_lexer": "ipython3",
   "version": "3.9.0"
  }
 },
 "nbformat": 4,
 "nbformat_minor": 5
}
