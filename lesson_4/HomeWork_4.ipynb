{
 "cells": [
  {
   "cell_type": "code",
   "execution_count": 1,
   "id": "dried-yeast",
   "metadata": {},
   "outputs": [],
   "source": [
    "import numpy as np\n",
    "from scipy.misc import derivative\n",
    "from sympy import *\n",
    "import matplotlib.pyplot as plt "
   ]
  },
  {
   "cell_type": "markdown",
   "id": "noted-appraisal",
   "metadata": {},
   "source": [
    "#### Посчитаем значение первой и второй производной методом derivative в точке Х = 1"
   ]
  },
  {
   "cell_type": "code",
   "execution_count": 15,
   "id": "close-chuck",
   "metadata": {},
   "outputs": [
    {
     "data": {
      "text/plain": [
       "2.509071801881646"
      ]
     },
     "execution_count": 15,
     "metadata": {},
     "output_type": "execute_result"
    }
   ],
   "source": [
    "def function_1(x):\n",
    "    return x**5 + 4*np.sin(2*x) + np.cos(3*x+3)\n",
    "\n",
    "derivative(function_1, 1., dx=1e-6)"
   ]
  },
  {
   "cell_type": "code",
   "execution_count": 16,
   "id": "chicken-granny",
   "metadata": {},
   "outputs": [
    {
     "data": {
      "text/plain": [
       "-3.19033688356285"
      ]
     },
     "execution_count": 16,
     "metadata": {},
     "output_type": "execute_result"
    }
   ],
   "source": [
    "derivative(function_1, 1., dx=1e-6, n = 2)"
   ]
  },
  {
   "cell_type": "markdown",
   "id": "innovative-farming",
   "metadata": {},
   "source": [
    "#### Находим первую и вторую производную и считаем их значения в точке Х = 1 с помощью библиотеки Sympy"
   ]
  },
  {
   "cell_type": "code",
   "execution_count": 18,
   "id": "expressed-investor",
   "metadata": {},
   "outputs": [],
   "source": [
    "x = symbols('x')"
   ]
  },
  {
   "cell_type": "code",
   "execution_count": 19,
   "id": "residential-courtesy",
   "metadata": {},
   "outputs": [
    {
     "name": "stdout",
     "output_type": "stream",
     "text": [
      "Первая производная: 5*x**4 - 3*sin(3*x + 3) + 8*cos(2*x)\n"
     ]
    }
   ],
   "source": [
    "exp = x**5 + 4*sin(2*x) + cos(3*x+3)\n",
    "der_1 = diff(exp, x)\n",
    "print(\"Первая производная:\", der_1)"
   ]
  },
  {
   "cell_type": "code",
   "execution_count": 20,
   "id": "shaped-hours",
   "metadata": {},
   "outputs": [
    {
     "name": "stdout",
     "output_type": "stream",
     "text": [
      "Вторая производная: 20*x**3 - 16*sin(2*x) - 9*cos(3*x + 3)\n"
     ]
    }
   ],
   "source": [
    "der_2 = diff(der_1, x)\n",
    "print(\"Вторая производная:\", der_2)"
   ]
  },
  {
   "cell_type": "code",
   "execution_count": 21,
   "id": "surprised-banana",
   "metadata": {},
   "outputs": [
    {
     "name": "stdout",
     "output_type": "stream",
     "text": [
      "Значение первой производной в точке x = 1: 2.50907180221964\n"
     ]
    }
   ],
   "source": [
    "val_1 = der_1.subs(x, 1).evalf()\n",
    "print(\"Значение первой производной в точке x = 1:\", val_1)"
   ]
  },
  {
   "cell_type": "code",
   "execution_count": 22,
   "id": "abstract-quick",
   "metadata": {},
   "outputs": [
    {
     "name": "stdout",
     "output_type": "stream",
     "text": [
      "Значение второй производной в точке x = 1: -3.19029140906420\n"
     ]
    }
   ],
   "source": [
    "val_2 = der_2.subs(x, 1).evalf()\n",
    "print(\"Значение второй производной в точке x = 1:\", val_2)"
   ]
  },
  {
   "cell_type": "markdown",
   "id": "creative-large",
   "metadata": {},
   "source": [
    "### !!!\n",
    "#### Почему с помощью метода derivative() значения производных данной функции отличаются от значений, посчитанных библиотекой Sympy? На простом примере таких различий нет"
   ]
  },
  {
   "cell_type": "code",
   "execution_count": 23,
   "id": "middle-component",
   "metadata": {},
   "outputs": [
    {
     "data": {
      "text/plain": [
       "2.0019541580040823"
      ]
     },
     "execution_count": 23,
     "metadata": {},
     "output_type": "execute_result"
    }
   ],
   "source": [
    "def function_1(x):\n",
    "    return x**2 + 4*x\n",
    "\n",
    "derivative(function_1, 2., dx=1e-6, n=2)"
   ]
  },
  {
   "cell_type": "code",
   "execution_count": 10,
   "id": "molecular-accused",
   "metadata": {},
   "outputs": [
    {
     "data": {
      "text/latex": [
       "$\\displaystyle 2.0$"
      ],
      "text/plain": [
       "2.00000000000000"
      ]
     },
     "execution_count": 10,
     "metadata": {},
     "output_type": "execute_result"
    }
   ],
   "source": [
    "x = symbols('x')\n",
    "exp = x**2 + 4*x\n",
    "dif = diff(exp, x)\n",
    "dif_2 = diff(dif, x)\n",
    "\n",
    "dif_2.subs(x, 1).evalf()"
   ]
  },
  {
   "cell_type": "markdown",
   "id": "common-utilization",
   "metadata": {},
   "source": [
    "### Уровень 1."
   ]
  },
  {
   "cell_type": "code",
   "execution_count": 11,
   "id": "approved-humor",
   "metadata": {},
   "outputs": [
    {
     "name": "stdout",
     "output_type": "stream",
     "text": [
      "Первая производная: 10*sin(2*x + 1)**4*cos(2*x + 1)\n"
     ]
    }
   ],
   "source": [
    "x = symbols(\"x\")\n",
    "dif_1 = diff(sin(2*x+1)**5, x)\n",
    "print(\"Первая производная:\", dif_1)"
   ]
  },
  {
   "cell_type": "code",
   "execution_count": 12,
   "id": "decreased-theme",
   "metadata": {
    "scrolled": false
   },
   "outputs": [
    {
     "data": {
      "image/png": "[encoded data removed]",
      "text/plain": [
       "<Figure size 432x288 with 1 Axes>"
      ]
     },
     "metadata": {
      "needs_background": "light"
     },
     "output_type": "display_data"
    }
   ],
   "source": [
    "def y(x):\n",
    "    return 10*np.sin(2*x + 1)**4*np.cos(2*x + 1)\n",
    "x = np.linspace(-5, 5,100)\n",
    "plt.plot(x, y(x))\n",
    "plt.show()"
   ]
  },
  {
   "cell_type": "code",
   "execution_count": 13,
   "id": "functioning-portable",
   "metadata": {},
   "outputs": [
    {
     "name": "stdout",
     "output_type": "stream",
     "text": [
      "Вторая производная: -20*sin(2*x + 1)**5 + 80*sin(2*x + 1)**3*cos(2*x + 1)**2\n"
     ]
    }
   ],
   "source": [
    "dif_2 = diff(dif_1)\n",
    "print(\"Вторая производная:\", dif_2)"
   ]
  },
  {
   "cell_type": "code",
   "execution_count": 14,
   "id": "signed-scholarship",
   "metadata": {
    "scrolled": true
   },
   "outputs": [
    {
     "data": {
      "image/png": "[encoded data removed]",
      "text/plain": [
       "<Figure size 432x288 with 1 Axes>"
      ]
     },
     "metadata": {
      "needs_background": "light"
     },
     "output_type": "display_data"
    }
   ],
   "source": [
    "def y(x):\n",
    "    return -20*np.sin(2*x + 1)**5 + 80*np.sin(2*x + 1)**3*np.cos(2*x + 1)**2\n",
    "x = np.linspace(-5, 5,100)\n",
    "plt.plot(x, y(x))\n",
    "plt.show()"
   ]
  },
  {
   "cell_type": "code",
   "execution_count": null,
   "id": "narrative-month",
   "metadata": {},
   "outputs": [],
   "source": []
  },
  {
   "cell_type": "markdown",
   "id": "sweet-pavilion",
   "metadata": {},
   "source": [
    "### Нахождение локальных мин, макс"
   ]
  },
  {
   "cell_type": "code",
   "execution_count": 40,
   "id": "stuck-tuner",
   "metadata": {},
   "outputs": [],
   "source": [
    "from scipy.optimize import fmin \n",
    "def f(x):\n",
    "    return -1 * np.sin(x)/x"
   ]
  },
  {
   "cell_type": "code",
   "execution_count": 42,
   "id": "excellent-legislation",
   "metadata": {
    "scrolled": false
   },
   "outputs": [
    {
     "name": "stdout",
     "output_type": "stream",
     "text": [
      "Optimization terminated successfully.\n",
      "         Current function value: -0.128375\n",
      "         Iterations: 18\n",
      "         Function evaluations: 36\n"
     ]
    },
    {
     "data": {
      "text/plain": [
       "-7.72528076171875"
      ]
     },
     "execution_count": 42,
     "metadata": {},
     "output_type": "execute_result"
    }
   ],
   "source": [
    "x0 = -5 # start from x = -5\n",
    "xmin0 = fmin(f,x0)\n",
    "xmin0[0]"
   ]
  },
  {
   "cell_type": "code",
   "execution_count": 44,
   "id": "minor-tourist",
   "metadata": {},
   "outputs": [
    {
     "name": "stdout",
     "output_type": "stream",
     "text": [
      "Optimization terminated successfully.\n",
      "         Current function value: -0.217234\n",
      "         Iterations: 18\n",
      "         Function evaluations: 36\n"
     ]
    },
    {
     "data": {
      "text/plain": [
       "4.493457031250006"
      ]
     },
     "execution_count": 44,
     "metadata": {},
     "output_type": "execute_result"
    }
   ],
   "source": [
    "def f_(x):\n",
    "    return -f(x)\n",
    "x1 = 2\n",
    "xmax1 = fmin(f_,x1)\n",
    "xmax1[0]"
   ]
  },
  {
   "cell_type": "code",
   "execution_count": null,
   "id": "suspended-weekend",
   "metadata": {
    "scrolled": true
   },
   "outputs": [],
   "source": []
  },
  {
   "cell_type": "code",
   "execution_count": 45,
   "id": "unusual-boring",
   "metadata": {
    "scrolled": false
   },
   "outputs": [
    {
     "data": {
      "image/png": "[encoded data removed]",
      "text/plain": [
       "<Figure size 432x288 with 1 Axes>"
      ]
     },
     "metadata": {
      "needs_background": "light"
     },
     "output_type": "display_data"
    }
   ],
   "source": [
    "def f(x):\n",
    "    return x ** 2 + 1\n",
    "x = np.linspace(-10, 10)\n",
    "fx = f(x)\n",
    "f1x = [derivative(f, xx, dx=1e-6, n=1) for xx in x]\n",
    "plt.plot(x, fx, label='function')\n",
    "plt.plot(x, f1x, label='derivative')\n",
    "plt.legend()\n",
    "plt.show()"
   ]
  },
  {
   "cell_type": "code",
   "execution_count": null,
   "id": "incorporate-leone",
   "metadata": {},
   "outputs": [],
   "source": []
  }
 ],
 "metadata": {
  "kernelspec": {
   "display_name": "Python 3",
   "language": "python",
   "name": "python3"
  },
  "language_info": {
   "codemirror_mode": {
    "name": "ipython",
    "version": 3
   },
   "file_extension": ".py",
   "mimetype": "text/x-python",
   "name": "python",
   "nbconvert_exporter": "python",
   "pygments_lexer": "ipython3",
   "version": "3.9.0"
  }
 },
 "nbformat": 4,
 "nbformat_minor": 5
}
