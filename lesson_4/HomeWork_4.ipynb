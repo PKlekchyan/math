{
 "cells": [
  {
   "cell_type": "code",
   "execution_count": 26,
   "id": "dried-yeast",
   "metadata": {},
   "outputs": [],
   "source": [
    "import numpy as np\n",
    "from scipy.misc import derivative\n",
    "from sympy import *\n",
    "import matplotlib.pyplot as plt "
   ]
  },
  {
   "cell_type": "markdown",
   "id": "noted-appraisal",
   "metadata": {},
   "source": [
    "#### Посчитаем значение первой и второй производной методом derivative в точке Х = 1"
   ]
  },
  {
   "cell_type": "code",
   "execution_count": 137,
   "id": "close-chuck",
   "metadata": {},
   "outputs": [
    {
     "data": {
      "text/plain": [
       "14.525826126742029"
      ]
     },
     "execution_count": 137,
     "metadata": {},
     "output_type": "execute_result"
    }
   ],
   "source": [
    "def function_1(x):\n",
    "    return x**5 + 4*np.sin(2*x) + np.cos(3*x+3)\n",
    "\n",
    "derivative(function_1, 1.)"
   ]
  },
  {
   "cell_type": "code",
   "execution_count": 138,
   "id": "chicken-granny",
   "metadata": {},
   "outputs": [
    {
     "data": {
      "text/plain": [
       "15.87694727237698"
      ]
     },
     "execution_count": 138,
     "metadata": {},
     "output_type": "execute_result"
    }
   ],
   "source": [
    "derivative(function_1, 1., n = 2)"
   ]
  },
  {
   "cell_type": "markdown",
   "id": "innovative-farming",
   "metadata": {},
   "source": [
    "#### Находим первую и вторую производную и считаем их значения в точке Х = 1 с помощью библиотеки Sympy"
   ]
  },
  {
   "cell_type": "code",
   "execution_count": null,
   "id": "expressed-investor",
   "metadata": {},
   "outputs": [],
   "source": [
    "x = symbols('x')"
   ]
  },
  {
   "cell_type": "code",
   "execution_count": 104,
   "id": "residential-courtesy",
   "metadata": {},
   "outputs": [
    {
     "name": "stdout",
     "output_type": "stream",
     "text": [
      "Первая производная: 5*x**4 - 3*sin(3*x + 3) + 8*cos(2*x)\n"
     ]
    }
   ],
   "source": [
    "exp = x**5 + 4*sin(2*x) + cos(3*x+3)\n",
    "der_1 = diff(exp, x)\n",
    "print(\"Первая производная:\", der_1)"
   ]
  },
  {
   "cell_type": "code",
   "execution_count": 105,
   "id": "shaped-hours",
   "metadata": {},
   "outputs": [
    {
     "name": "stdout",
     "output_type": "stream",
     "text": [
      "Вторая производная: 20*x**3 - 16*sin(2*x) - 9*cos(3*x + 3)\n"
     ]
    }
   ],
   "source": [
    "der_2 = diff(der_1, x)\n",
    "print(\"Вторая производная:\", der_2)"
   ]
  },
  {
   "cell_type": "code",
   "execution_count": 103,
   "id": "surprised-banana",
   "metadata": {},
   "outputs": [
    {
     "name": "stdout",
     "output_type": "stream",
     "text": [
      "Значение первой производной в точке x = 1: 2.50907180221964\n"
     ]
    }
   ],
   "source": [
    "val_1 = der_1.subs(x, 1).evalf()\n",
    "print(\"Значение первой производной в точке x = 1:\", val_1)"
   ]
  },
  {
   "cell_type": "code",
   "execution_count": 102,
   "id": "abstract-quick",
   "metadata": {},
   "outputs": [
    {
     "name": "stdout",
     "output_type": "stream",
     "text": [
      "Значение второй производной в точке x = 1: -3.19029140906420\n"
     ]
    }
   ],
   "source": [
    "val_2 = der_2.subs(x, 1).evalf()\n",
    "print(\"Значение второй производной в точке x = 1:\", val_2)"
   ]
  },
  {
   "cell_type": "markdown",
   "id": "creative-large",
   "metadata": {},
   "source": [
    "### !!!\n",
    "#### Почему с помощью метода derivative() значения производных данной функции отличаются от значений, посчитанных библиотекой Sympy? На простом примере таких различий нет"
   ]
  },
  {
   "cell_type": "code",
   "execution_count": 130,
   "id": "middle-component",
   "metadata": {},
   "outputs": [
    {
     "data": {
      "text/plain": [
       "2.0"
      ]
     },
     "execution_count": 130,
     "metadata": {},
     "output_type": "execute_result"
    }
   ],
   "source": [
    "def function_1(x):\n",
    "    return x**2 + 4*x\n",
    "\n",
    "derivative(function_1, 2., n=2)"
   ]
  },
  {
   "cell_type": "code",
   "execution_count": 129,
   "id": "molecular-accused",
   "metadata": {},
   "outputs": [
    {
     "data": {
      "text/latex": [
       "$\\displaystyle 2.0$"
      ],
      "text/plain": [
       "2.00000000000000"
      ]
     },
     "execution_count": 129,
     "metadata": {},
     "output_type": "execute_result"
    }
   ],
   "source": [
    "x = symbols('x')\n",
    "exp = x**2 + 4*x\n",
    "dif = diff(exp, x)\n",
    "dif_2 = diff(dif, x)\n",
    "\n",
    "dif_2.subs(x, 1).evalf()"
   ]
  },
  {
   "cell_type": "markdown",
   "id": "common-utilization",
   "metadata": {},
   "source": [
    "### Уровень 1."
   ]
  },
  {
   "cell_type": "code",
   "execution_count": 179,
   "id": "approved-humor",
   "metadata": {},
   "outputs": [
    {
     "name": "stdout",
     "output_type": "stream",
     "text": [
      "Первая производная: 10*sin(2*x + 1)**4*cos(2*x + 1)\n"
     ]
    }
   ],
   "source": [
    "x = symbols(\"x\")\n",
    "dif_1 = diff(sin(2*x+1)**5, x)\n",
    "print(\"Первая производная:\", dif_1)"
   ]
  },
  {
   "cell_type": "code",
   "execution_count": 176,
   "id": "decreased-theme",
   "metadata": {
    "scrolled": false
   },
   "outputs": [
    {
     "data": {
      "image/png": "[encoded data removed]",
      "text/plain": [
       "<Figure size 432x288 with 1 Axes>"
      ]
     },
     "metadata": {
      "needs_background": "light"
     },
     "output_type": "display_data"
    }
   ],
   "source": [
    "def y(x):\n",
    "    return 10*np.sin(2*x + 1)**4*np.cos(2*x + 1)\n",
    "x = np.linspace(-5, 5,100)\n",
    "plt.plot(x, y(x))\n",
    "plt.show()"
   ]
  },
  {
   "cell_type": "code",
   "execution_count": 182,
   "id": "functioning-portable",
   "metadata": {},
   "outputs": [
    {
     "name": "stdout",
     "output_type": "stream",
     "text": [
      "Вторая производная: -20*sin(2*x + 1)**5 + 80*sin(2*x + 1)**3*cos(2*x + 1)**2\n"
     ]
    }
   ],
   "source": [
    "dif_2 = diff(dif_1)\n",
    "print(\"Вторая производная:\", dif_2)"
   ]
  },
  {
   "cell_type": "code",
   "execution_count": 181,
   "id": "signed-scholarship",
   "metadata": {},
   "outputs": [
    {
     "data": {
      "image/png": "[encoded data removed]",
      "text/plain": [
       "<Figure size 432x288 with 1 Axes>"
      ]
     },
     "metadata": {
      "needs_background": "light"
     },
     "output_type": "display_data"
    }
   ],
   "source": [
    "def y(x):\n",
    "    return -20*np.sin(2*x + 1)**5 + 80*np.sin(2*x + 1)**3*np.cos(2*x + 1)**2\n",
    "x = np.linspace(-5, 5,100)\n",
    "plt.plot(x, y(x))\n",
    "plt.show()"
   ]
  }
 ],
 "metadata": {
  "kernelspec": {
   "display_name": "Python 3",
   "language": "python",
   "name": "python3"
  },
  "language_info": {
   "codemirror_mode": {
    "name": "ipython",
    "version": 3
   },
   "file_extension": ".py",
   "mimetype": "text/x-python",
   "name": "python",
   "nbconvert_exporter": "python",
   "pygments_lexer": "ipython3",
   "version": "3.9.0"
  }
 },
 "nbformat": 4,
 "nbformat_minor": 5
}
